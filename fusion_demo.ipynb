{
  "nbformat": 4,
  "nbformat_minor": 0,
  "metadata": {
    "colab": {
      "provenance": [],
      "authorship_tag": "ABX9TyMZ4oaz7pKQiUVmzOovv5sh",
      "include_colab_link": true
    },
    "kernelspec": {
      "name": "python3",
      "display_name": "Python 3"
    },
    "language_info": {
      "name": "python"
    }
  },
  "cells": [
    {
      "cell_type": "markdown",
      "metadata": {
        "id": "view-in-github",
        "colab_type": "text"
      },
      "source": [
        "<a href=\"https://colab.research.google.com/github/bernarddjoko/ai-cancer-diagnosis-assistant/blob/dev-fusion/fusion_demo.ipynb\" target=\"_parent\"><img src=\"https://colab.research.google.com/assets/colab-badge.svg\" alt=\"Open In Colab\"/></a>"
      ]
    },
    {
      "cell_type": "markdown",
      "source": [
        "Mock Fusion Layer"
      ],
      "metadata": {
        "id": "BKGHEkJ5L603"
      }
    },
    {
      "cell_type": "code",
      "source": [
        "import torch.nn as nn\n",
        "\n",
        "# Flatten image features\n",
        "img_feat = features.view(1, -1)  # shape: [1, 2048]\n",
        "\n",
        "# Concatenate with text embedding\n",
        "combined = torch.cat((img_feat, cls_embedding), dim=1)  # shape: [1, 2816]\n",
        "\n",
        "# Define a mock fusion layer\n",
        "fusion_layer = nn.Sequential(\n",
        "    nn.Linear(2816, 512),\n",
        "    nn.ReLU(),\n",
        "    nn.Linear(512, 2)  # binary classification output\n",
        ")\n",
        "\n",
        "# Run through fusion layer\n",
        "with torch.no_grad():\n",
        "    output = fusion_layer(combined)\n",
        "\n",
        "print(f\"Final fused output shape: {output.shape}\")\n",
        "print(\"Mock prediction:\", output)"
      ],
      "metadata": {
        "colab": {
          "base_uri": "https://localhost:8080/"
        },
        "id": "BLwp4YU_DQjy",
        "outputId": "d50889ab-2572-4b4a-965c-d47e99c1bf0b"
      },
      "execution_count": null,
      "outputs": [
        {
          "output_type": "stream",
          "name": "stdout",
          "text": [
            "Final fused output shape: torch.Size([1, 2])\n",
            "Mock prediction: tensor([[0.0391, 0.1139]])\n"
          ]
        }
      ]
    }
  ]
}