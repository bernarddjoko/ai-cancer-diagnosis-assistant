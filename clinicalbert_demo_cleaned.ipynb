{
 "cells": [
  {
   "cell_type": "markdown",
   "metadata": {
    "id": "NmvI1rjNK5Oo"
   },
   "source": [
    "ClinicalBERT Mock Feature Extraction"
   ]
  },
  {
   "cell_type": "markdown",
   "metadata": {
    "id": "2GLZ_iUAK9qp"
   },
   "source": [
    "Install Transformers & Load ClinicalBERT"
   ]
  },
  {
   "cell_type": "code",
   "execution_count": null,
   "metadata": {
    "colab": {
     "base_uri": "https://localhost:8080/",
     "height": 891,
     "referenced_widgets": [
      "f43a7b65fa464db9913ae5dac3c2b6e0",
      "7968cb67b72e48519b06ca7ef52ea69c",
      "cc1c6b9851544940a3636b0cf30da537",
      "2f35337ea2464142872478d750570589",
      "f0475a5ee7b64bd58390336e2e785952",
      "9d7721a0babc46e2a9cfa46c24082176",
      "437ffc5687174e5081a1d858401d9250",
      "bc1111b9446a44ad8743fc658b65131f",
      "6880a7279422467da78c7e7381376798",
      "396651da7c3e4ebcb49717eb4ed6d66e",
      "482055c32bdb40199996415826ad6b7c",
      "6c4e3466783148d9895e32a4fb15432f",
      "b7c118710f5d425ca6303615be2d801f",
      "1717d30794a6487db76434cb46125977",
      "d1fd4f0d9b5648fcb27162bb9739679a",
      "48bd7a0366a9442890630b98e0944dab",
      "c04cdfda2c8441d984f712ec14a7fe37",
      "d8d68a7f25b14a45bf2bb13af8b92e95",
      "ca3c298662404109b5bc2b010bf43eac",
      "23bb1d3c7890422f9aaea4e8203a9cbf",
      "e5c0473fc7a34f0fa4b6c9d288bb68ca",
      "04e51b74e47745e2979f6c5c9044458f",
      "75b35c21ef2f4fadbb133337a14b9629",
      "9d4ea64e44224dca81bfb6e0cc7e08b4",
      "5fd194c5ab7e420c9febcde92a3264c7",
      "b91bcaf3d3bc4443b7713a7f40e3e224",
      "3d795ad4c77c4bbcbe62470da0b0b848",
      "5693db4302f748e1936917fc13d0649a",
      "e06d4261b71440238fd110e46427ab7f",
      "348ee229c5a84901b9d6d5b79497b7b0",
      "ef2578682d2942d397e1f136bc22158e",
      "78bb4fdfdccf4da48cc05b93d972a54b",
      "e4c06717371e42b68897fd35561c3372",
      "65a33401d1f044ccb5b0b47d1914c6f9",
      "12d1e80c0c404a81a76ca98b0b063a02",
      "52806f677d574ea49a7e3f1c556ad975",
      "bda5ba88a63b401ab1a2d465750f0426",
      "015c7214a30a41cb8e794ddf0c907bb3",
      "2bcc482505e941b1a2af688b1daba4ca",
      "b21c973a7ae54d01af04ca4592991127",
      "3ee572b43a9a445e8c997dc2ab8b05d5",
      "decfa42ed3a94422a8a0fb29f628fb86",
      "8c5da3493d0c4dab9d21c3b1a85042b4",
      "74050cb4cfc649c984e37bb895dda3d0"
     ]
    },
    "id": "E6HsPJHCDQe5",
    "outputId": "77d64368-32c6-47a5-fd08-164e1314b5b7"
   },
   "outputs": [
    {
     "name": "stderr",
     "output_type": "stream",
     "text": [
      "/usr/local/lib/python3.11/dist-packages/tqdm/auto.py:21: TqdmExperimentalWarning: Using `tqdm.autonotebook.tqdm` in notebook mode. Use `tqdm.tqdm` instead to force console mode (e.g. in jupyter console)\n",
      "  from .autonotebook import tqdm as notebook_tqdm\n"
     ]
    },
    {
     "data": {
      "application/vnd.jupyter.widget-view+json": {
       "model_id": "f43a7b65fa464db9913ae5dac3c2b6e0",
       "version_major": 2,
       "version_minor": 0
      },
      "text/plain": [
       "config.json:   0%|          | 0.00/385 [00:00<?, ?B/s]"
      ]
     },
     "metadata": {},
     "output_type": "display_data"
    },
    {
     "data": {
      "application/vnd.jupyter.widget-view+json": {
       "model_id": "6c4e3466783148d9895e32a4fb15432f",
       "version_major": 2,
       "version_minor": 0
      },
      "text/plain": [
       "vocab.txt: 0.00B [00:00, ?B/s]"
      ]
     },
     "metadata": {},
     "output_type": "display_data"
    },
    {
     "data": {
      "application/vnd.jupyter.widget-view+json": {
       "model_id": "75b35c21ef2f4fadbb133337a14b9629",
       "version_major": 2,
       "version_minor": 0
      },
      "text/plain": [
       "pytorch_model.bin:   0%|          | 0.00/436M [00:00<?, ?B/s]"
      ]
     },
     "metadata": {},
     "output_type": "display_data"
    },
    {
     "data": {
      "application/vnd.jupyter.widget-view+json": {
       "model_id": "65a33401d1f044ccb5b0b47d1914c6f9",
       "version_major": 2,
       "version_minor": 0
      },
      "text/plain": [
       "model.safetensors:   0%|          | 0.00/436M [00:00<?, ?B/s]"
      ]
     },
     "metadata": {},
     "output_type": "display_data"
    },
    {
     "data": {
      "text/plain": [
       "BertModel(\n",
       "  (embeddings): BertEmbeddings(\n",
       "    (word_embeddings): Embedding(28996, 768, padding_idx=0)\n",
       "    (position_embeddings): Embedding(512, 768)\n",
       "    (token_type_embeddings): Embedding(2, 768)\n",
       "    (LayerNorm): LayerNorm((768,), eps=1e-12, elementwise_affine=True)\n",
       "    (dropout): Dropout(p=0.1, inplace=False)\n",
       "  )\n",
       "  (encoder): BertEncoder(\n",
       "    (layer): ModuleList(\n",
       "      (0-11): 12 x BertLayer(\n",
       "        (attention): BertAttention(\n",
       "          (self): BertSdpaSelfAttention(\n",
       "            (query): Linear(in_features=768, out_features=768, bias=True)\n",
       "            (key): Linear(in_features=768, out_features=768, bias=True)\n",
       "            (value): Linear(in_features=768, out_features=768, bias=True)\n",
       "            (dropout): Dropout(p=0.1, inplace=False)\n",
       "          )\n",
       "          (output): BertSelfOutput(\n",
       "            (dense): Linear(in_features=768, out_features=768, bias=True)\n",
       "            (LayerNorm): LayerNorm((768,), eps=1e-12, elementwise_affine=True)\n",
       "            (dropout): Dropout(p=0.1, inplace=False)\n",
       "          )\n",
       "        )\n",
       "        (intermediate): BertIntermediate(\n",
       "          (dense): Linear(in_features=768, out_features=3072, bias=True)\n",
       "          (intermediate_act_fn): GELUActivation()\n",
       "        )\n",
       "        (output): BertOutput(\n",
       "          (dense): Linear(in_features=3072, out_features=768, bias=True)\n",
       "          (LayerNorm): LayerNorm((768,), eps=1e-12, elementwise_affine=True)\n",
       "          (dropout): Dropout(p=0.1, inplace=False)\n",
       "        )\n",
       "      )\n",
       "    )\n",
       "  )\n",
       "  (pooler): BertPooler(\n",
       "    (dense): Linear(in_features=768, out_features=768, bias=True)\n",
       "    (activation): Tanh()\n",
       "  )\n",
       ")"
      ]
     },
     "execution_count": 7,
     "metadata": {},
     "output_type": "execute_result"
    }
   ],
   "source": [
    "# Install Hugging Face Transformers\n",
    "!pip install transformers --quiet\n",
    "\n",
    "# Load tokenizer and model\n",
    "from transformers import AutoTokenizer, AutoModel\n",
    "import torch\n",
    "\n",
    "# Load pretrained ClinicalBERT\n",
    "tokenizer = AutoTokenizer.from_pretrained(\"emilyalsentzer/Bio_ClinicalBERT\")\n",
    "model = AutoModel.from_pretrained(\"emilyalsentzer/Bio_ClinicalBERT\")\n",
    "model.eval()"
   ]
  },
  {
   "cell_type": "markdown",
   "metadata": {
    "id": "FJd8m9jELjMX"
   },
   "source": [
    "Encode a Sample Radiology Report & Extract Embedding"
   ]
  },
  {
   "cell_type": "code",
   "execution_count": null,
   "metadata": {
    "colab": {
     "base_uri": "https://localhost:8080/"
    },
    "id": "MvsMSmELDQha",
    "outputId": "4e6385a8-7135-4e5d-cdad-9ae77a76faf1"
   },
   "outputs": [
    {
     "name": "stderr",
     "output_type": "stream",
     "text": [
      "Asking to truncate to max_length but no maximum length is provided and the model has no predefined maximum length. Default to no truncation.\n"
     ]
    },
    {
     "name": "stdout",
     "output_type": "stream",
     "text": [
      "Extracted CLS embedding shape: torch.Size([1, 768])\n"
     ]
    }
   ],
   "source": [
    "# Sample mock radiology report\n",
    "report = \"\"\"\n",
    "There is patchy opacity in the right lower lobe.\n",
    "Cardiac silhouette and mediastinum are within normal limits.\n",
    "No pleural effusion or pneumothorax is noted.\n",
    "\"\"\"\n",
    "\n",
    "# Tokenize the input\n",
    "inputs = tokenizer(report, return_tensors=\"pt\", truncation=True, padding=True)\n",
    "\n",
    "# Get embeddings (using the [CLS] token for simplicity)\n",
    "with torch.no_grad():\n",
    "    outputs = model(**inputs)\n",
    "    cls_embedding = outputs.last_hidden_state[:, 0, :]  # shape: [1, 768]\n",
    "\n",
    "print(f\"Extracted CLS embedding shape: {cls_embedding.shape}\")"
   ]
  }
 ],
 "metadata": {
  "colab": {
   "provenance": []
  },
  "kernelspec": {
   "display_name": "Python 3",
   "name": "python3"
  },
  "language_info": {
   "name": "python"
  }
 },
 "nbformat": 4,
 "nbformat_minor": 0
}
